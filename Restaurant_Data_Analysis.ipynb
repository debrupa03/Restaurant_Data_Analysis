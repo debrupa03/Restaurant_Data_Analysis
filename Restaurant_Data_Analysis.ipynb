{
 "cells": [
  {
   "cell_type": "code",
   "execution_count": 1,
   "id": "8d669c02-6b50-4e94-9775-c83a1b8cf7e9",
   "metadata": {},
   "outputs": [],
   "source": [
    "import pandas as pd\n",
    "import matplotlib.pyplot as plt\n",
    "import seaborn as sns\n",
    "from collections import Counter"
   ]
  },
  {
   "cell_type": "code",
   "execution_count": 3,
   "id": "e96ef50e-7492-4394-b151-3a6a48884534",
   "metadata": {},
   "outputs": [],
   "source": [
    "df = pd.read_csv('Dataset .csv')"
   ]
  },
  {
   "cell_type": "code",
   "execution_count": 4,
   "id": "6563448c-9b2e-490c-83af-70ecece6e868",
   "metadata": {},
   "outputs": [
    {
     "name": "stdout",
     "output_type": "stream",
     "text": [
      "   Restaurant ID         Restaurant Name  Country Code              City  \\\n",
      "0        6317637        Le Petit Souffle           162       Makati City   \n",
      "1        6304287        Izakaya Kikufuji           162       Makati City   \n",
      "2        6300002  Heat - Edsa Shangri-La           162  Mandaluyong City   \n",
      "3        6318506                    Ooma           162  Mandaluyong City   \n",
      "4        6314302             Sambo Kojin           162  Mandaluyong City   \n",
      "\n",
      "                                             Address  \\\n",
      "0  Third Floor, Century City Mall, Kalayaan Avenu...   \n",
      "1  Little Tokyo, 2277 Chino Roces Avenue, Legaspi...   \n",
      "2  Edsa Shangri-La, 1 Garden Way, Ortigas, Mandal...   \n",
      "3  Third Floor, Mega Fashion Hall, SM Megamall, O...   \n",
      "4  Third Floor, Mega Atrium, SM Megamall, Ortigas...   \n",
      "\n",
      "                                     Locality  \\\n",
      "0   Century City Mall, Poblacion, Makati City   \n",
      "1  Little Tokyo, Legaspi Village, Makati City   \n",
      "2  Edsa Shangri-La, Ortigas, Mandaluyong City   \n",
      "3      SM Megamall, Ortigas, Mandaluyong City   \n",
      "4      SM Megamall, Ortigas, Mandaluyong City   \n",
      "\n",
      "                                    Locality Verbose   Longitude   Latitude  \\\n",
      "0  Century City Mall, Poblacion, Makati City, Mak...  121.027535  14.565443   \n",
      "1  Little Tokyo, Legaspi Village, Makati City, Ma...  121.014101  14.553708   \n",
      "2  Edsa Shangri-La, Ortigas, Mandaluyong City, Ma...  121.056831  14.581404   \n",
      "3  SM Megamall, Ortigas, Mandaluyong City, Mandal...  121.056475  14.585318   \n",
      "4  SM Megamall, Ortigas, Mandaluyong City, Mandal...  121.057508  14.584450   \n",
      "\n",
      "                           Cuisines  ...          Currency Has Table booking  \\\n",
      "0        French, Japanese, Desserts  ...  Botswana Pula(P)               Yes   \n",
      "1                          Japanese  ...  Botswana Pula(P)               Yes   \n",
      "2  Seafood, Asian, Filipino, Indian  ...  Botswana Pula(P)               Yes   \n",
      "3                   Japanese, Sushi  ...  Botswana Pula(P)                No   \n",
      "4                  Japanese, Korean  ...  Botswana Pula(P)               Yes   \n",
      "\n",
      "  Has Online delivery Is delivering now Switch to order menu Price range  \\\n",
      "0                  No                No                   No           3   \n",
      "1                  No                No                   No           3   \n",
      "2                  No                No                   No           4   \n",
      "3                  No                No                   No           4   \n",
      "4                  No                No                   No           4   \n",
      "\n",
      "   Aggregate rating  Rating color Rating text Votes  \n",
      "0               4.8    Dark Green   Excellent   314  \n",
      "1               4.5    Dark Green   Excellent   591  \n",
      "2               4.4         Green   Very Good   270  \n",
      "3               4.9    Dark Green   Excellent   365  \n",
      "4               4.8    Dark Green   Excellent   229  \n",
      "\n",
      "[5 rows x 21 columns]\n",
      "<class 'pandas.core.frame.DataFrame'>\n",
      "RangeIndex: 9551 entries, 0 to 9550\n",
      "Data columns (total 21 columns):\n",
      " #   Column                Non-Null Count  Dtype  \n",
      "---  ------                --------------  -----  \n",
      " 0   Restaurant ID         9551 non-null   int64  \n",
      " 1   Restaurant Name       9551 non-null   object \n",
      " 2   Country Code          9551 non-null   int64  \n",
      " 3   City                  9551 non-null   object \n",
      " 4   Address               9551 non-null   object \n",
      " 5   Locality              9551 non-null   object \n",
      " 6   Locality Verbose      9551 non-null   object \n",
      " 7   Longitude             9551 non-null   float64\n",
      " 8   Latitude              9551 non-null   float64\n",
      " 9   Cuisines              9542 non-null   object \n",
      " 10  Average Cost for two  9551 non-null   int64  \n",
      " 11  Currency              9551 non-null   object \n",
      " 12  Has Table booking     9551 non-null   object \n",
      " 13  Has Online delivery   9551 non-null   object \n",
      " 14  Is delivering now     9551 non-null   object \n",
      " 15  Switch to order menu  9551 non-null   object \n",
      " 16  Price range           9551 non-null   int64  \n",
      " 17  Aggregate rating      9551 non-null   float64\n",
      " 18  Rating color          9551 non-null   object \n",
      " 19  Rating text           9551 non-null   object \n",
      " 20  Votes                 9551 non-null   int64  \n",
      "dtypes: float64(3), int64(5), object(13)\n",
      "memory usage: 1.5+ MB\n",
      "None\n"
     ]
    }
   ],
   "source": [
    "print(df.head())\n",
    "print(df.info())"
   ]
  },
  {
   "cell_type": "code",
   "execution_count": 5,
   "id": "96078e9c-e66e-47f1-a5b2-66361a1007cb",
   "metadata": {},
   "outputs": [
    {
     "data": {
      "text/plain": [
       "0.0009423097057899697"
      ]
     },
     "execution_count": 5,
     "metadata": {},
     "output_type": "execute_result"
    }
   ],
   "source": [
    "df['Cuisines'].isnull().sum()\n",
    "df['Cuisines'].isnull().sum() / len(df)"
   ]
  },
  {
   "cell_type": "code",
   "execution_count": 6,
   "id": "a617225c-c02a-4a37-b5b0-2c2ff880ad8a",
   "metadata": {},
   "outputs": [],
   "source": [
    "df_cleaned_cuisines = df.dropna(subset=['Cuisines'])\n",
    "ind_cuisines = df_cleaned_cuisines['Cuisines'].str.split(', ').explode()"
   ]
  },
  {
   "cell_type": "code",
   "execution_count": 8,
   "id": "c921317d-9c3f-4360-a183-0281f3fcce37",
   "metadata": {},
   "outputs": [
    {
     "data": {
      "text/html": [
       "<div>\n",
       "<style scoped>\n",
       "    .dataframe tbody tr th:only-of-type {\n",
       "        vertical-align: middle;\n",
       "    }\n",
       "\n",
       "    .dataframe tbody tr th {\n",
       "        vertical-align: top;\n",
       "    }\n",
       "\n",
       "    .dataframe thead th {\n",
       "        text-align: right;\n",
       "    }\n",
       "</style>\n",
       "<table border=\"1\" class=\"dataframe\">\n",
       "  <thead>\n",
       "    <tr style=\"text-align: right;\">\n",
       "      <th></th>\n",
       "      <th>Restaurant ID</th>\n",
       "      <th>Restaurant Name</th>\n",
       "      <th>Country Code</th>\n",
       "      <th>City</th>\n",
       "      <th>Address</th>\n",
       "      <th>Locality</th>\n",
       "      <th>Locality Verbose</th>\n",
       "      <th>Longitude</th>\n",
       "      <th>Latitude</th>\n",
       "      <th>Cuisines</th>\n",
       "      <th>...</th>\n",
       "      <th>Currency</th>\n",
       "      <th>Has Table booking</th>\n",
       "      <th>Has Online delivery</th>\n",
       "      <th>Is delivering now</th>\n",
       "      <th>Switch to order menu</th>\n",
       "      <th>Price range</th>\n",
       "      <th>Aggregate rating</th>\n",
       "      <th>Rating color</th>\n",
       "      <th>Rating text</th>\n",
       "      <th>Votes</th>\n",
       "    </tr>\n",
       "  </thead>\n",
       "  <tbody>\n",
       "    <tr>\n",
       "      <th>0</th>\n",
       "      <td>6317637</td>\n",
       "      <td>Le Petit Souffle</td>\n",
       "      <td>162</td>\n",
       "      <td>Makati City</td>\n",
       "      <td>Third Floor, Century City Mall, Kalayaan Avenu...</td>\n",
       "      <td>Century City Mall, Poblacion, Makati City</td>\n",
       "      <td>Century City Mall, Poblacion, Makati City, Mak...</td>\n",
       "      <td>121.027535</td>\n",
       "      <td>14.565443</td>\n",
       "      <td>French, Japanese, Desserts</td>\n",
       "      <td>...</td>\n",
       "      <td>Botswana Pula(P)</td>\n",
       "      <td>Yes</td>\n",
       "      <td>No</td>\n",
       "      <td>No</td>\n",
       "      <td>No</td>\n",
       "      <td>3</td>\n",
       "      <td>4.8</td>\n",
       "      <td>Dark Green</td>\n",
       "      <td>Excellent</td>\n",
       "      <td>314</td>\n",
       "    </tr>\n",
       "    <tr>\n",
       "      <th>1</th>\n",
       "      <td>6304287</td>\n",
       "      <td>Izakaya Kikufuji</td>\n",
       "      <td>162</td>\n",
       "      <td>Makati City</td>\n",
       "      <td>Little Tokyo, 2277 Chino Roces Avenue, Legaspi...</td>\n",
       "      <td>Little Tokyo, Legaspi Village, Makati City</td>\n",
       "      <td>Little Tokyo, Legaspi Village, Makati City, Ma...</td>\n",
       "      <td>121.014101</td>\n",
       "      <td>14.553708</td>\n",
       "      <td>Japanese</td>\n",
       "      <td>...</td>\n",
       "      <td>Botswana Pula(P)</td>\n",
       "      <td>Yes</td>\n",
       "      <td>No</td>\n",
       "      <td>No</td>\n",
       "      <td>No</td>\n",
       "      <td>3</td>\n",
       "      <td>4.5</td>\n",
       "      <td>Dark Green</td>\n",
       "      <td>Excellent</td>\n",
       "      <td>591</td>\n",
       "    </tr>\n",
       "    <tr>\n",
       "      <th>2</th>\n",
       "      <td>6300002</td>\n",
       "      <td>Heat - Edsa Shangri-La</td>\n",
       "      <td>162</td>\n",
       "      <td>Mandaluyong City</td>\n",
       "      <td>Edsa Shangri-La, 1 Garden Way, Ortigas, Mandal...</td>\n",
       "      <td>Edsa Shangri-La, Ortigas, Mandaluyong City</td>\n",
       "      <td>Edsa Shangri-La, Ortigas, Mandaluyong City, Ma...</td>\n",
       "      <td>121.056831</td>\n",
       "      <td>14.581404</td>\n",
       "      <td>Seafood, Asian, Filipino, Indian</td>\n",
       "      <td>...</td>\n",
       "      <td>Botswana Pula(P)</td>\n",
       "      <td>Yes</td>\n",
       "      <td>No</td>\n",
       "      <td>No</td>\n",
       "      <td>No</td>\n",
       "      <td>4</td>\n",
       "      <td>4.4</td>\n",
       "      <td>Green</td>\n",
       "      <td>Very Good</td>\n",
       "      <td>270</td>\n",
       "    </tr>\n",
       "    <tr>\n",
       "      <th>3</th>\n",
       "      <td>6318506</td>\n",
       "      <td>Ooma</td>\n",
       "      <td>162</td>\n",
       "      <td>Mandaluyong City</td>\n",
       "      <td>Third Floor, Mega Fashion Hall, SM Megamall, O...</td>\n",
       "      <td>SM Megamall, Ortigas, Mandaluyong City</td>\n",
       "      <td>SM Megamall, Ortigas, Mandaluyong City, Mandal...</td>\n",
       "      <td>121.056475</td>\n",
       "      <td>14.585318</td>\n",
       "      <td>Japanese, Sushi</td>\n",
       "      <td>...</td>\n",
       "      <td>Botswana Pula(P)</td>\n",
       "      <td>No</td>\n",
       "      <td>No</td>\n",
       "      <td>No</td>\n",
       "      <td>No</td>\n",
       "      <td>4</td>\n",
       "      <td>4.9</td>\n",
       "      <td>Dark Green</td>\n",
       "      <td>Excellent</td>\n",
       "      <td>365</td>\n",
       "    </tr>\n",
       "    <tr>\n",
       "      <th>4</th>\n",
       "      <td>6314302</td>\n",
       "      <td>Sambo Kojin</td>\n",
       "      <td>162</td>\n",
       "      <td>Mandaluyong City</td>\n",
       "      <td>Third Floor, Mega Atrium, SM Megamall, Ortigas...</td>\n",
       "      <td>SM Megamall, Ortigas, Mandaluyong City</td>\n",
       "      <td>SM Megamall, Ortigas, Mandaluyong City, Mandal...</td>\n",
       "      <td>121.057508</td>\n",
       "      <td>14.584450</td>\n",
       "      <td>Japanese, Korean</td>\n",
       "      <td>...</td>\n",
       "      <td>Botswana Pula(P)</td>\n",
       "      <td>Yes</td>\n",
       "      <td>No</td>\n",
       "      <td>No</td>\n",
       "      <td>No</td>\n",
       "      <td>4</td>\n",
       "      <td>4.8</td>\n",
       "      <td>Dark Green</td>\n",
       "      <td>Excellent</td>\n",
       "      <td>229</td>\n",
       "    </tr>\n",
       "  </tbody>\n",
       "</table>\n",
       "<p>5 rows × 21 columns</p>\n",
       "</div>"
      ],
      "text/plain": [
       "   Restaurant ID         Restaurant Name  Country Code              City  \\\n",
       "0        6317637        Le Petit Souffle           162       Makati City   \n",
       "1        6304287        Izakaya Kikufuji           162       Makati City   \n",
       "2        6300002  Heat - Edsa Shangri-La           162  Mandaluyong City   \n",
       "3        6318506                    Ooma           162  Mandaluyong City   \n",
       "4        6314302             Sambo Kojin           162  Mandaluyong City   \n",
       "\n",
       "                                             Address  \\\n",
       "0  Third Floor, Century City Mall, Kalayaan Avenu...   \n",
       "1  Little Tokyo, 2277 Chino Roces Avenue, Legaspi...   \n",
       "2  Edsa Shangri-La, 1 Garden Way, Ortigas, Mandal...   \n",
       "3  Third Floor, Mega Fashion Hall, SM Megamall, O...   \n",
       "4  Third Floor, Mega Atrium, SM Megamall, Ortigas...   \n",
       "\n",
       "                                     Locality  \\\n",
       "0   Century City Mall, Poblacion, Makati City   \n",
       "1  Little Tokyo, Legaspi Village, Makati City   \n",
       "2  Edsa Shangri-La, Ortigas, Mandaluyong City   \n",
       "3      SM Megamall, Ortigas, Mandaluyong City   \n",
       "4      SM Megamall, Ortigas, Mandaluyong City   \n",
       "\n",
       "                                    Locality Verbose   Longitude   Latitude  \\\n",
       "0  Century City Mall, Poblacion, Makati City, Mak...  121.027535  14.565443   \n",
       "1  Little Tokyo, Legaspi Village, Makati City, Ma...  121.014101  14.553708   \n",
       "2  Edsa Shangri-La, Ortigas, Mandaluyong City, Ma...  121.056831  14.581404   \n",
       "3  SM Megamall, Ortigas, Mandaluyong City, Mandal...  121.056475  14.585318   \n",
       "4  SM Megamall, Ortigas, Mandaluyong City, Mandal...  121.057508  14.584450   \n",
       "\n",
       "                           Cuisines  ...          Currency Has Table booking  \\\n",
       "0        French, Japanese, Desserts  ...  Botswana Pula(P)               Yes   \n",
       "1                          Japanese  ...  Botswana Pula(P)               Yes   \n",
       "2  Seafood, Asian, Filipino, Indian  ...  Botswana Pula(P)               Yes   \n",
       "3                   Japanese, Sushi  ...  Botswana Pula(P)                No   \n",
       "4                  Japanese, Korean  ...  Botswana Pula(P)               Yes   \n",
       "\n",
       "  Has Online delivery Is delivering now Switch to order menu Price range  \\\n",
       "0                  No                No                   No           3   \n",
       "1                  No                No                   No           3   \n",
       "2                  No                No                   No           4   \n",
       "3                  No                No                   No           4   \n",
       "4                  No                No                   No           4   \n",
       "\n",
       "   Aggregate rating  Rating color Rating text Votes  \n",
       "0               4.8    Dark Green   Excellent   314  \n",
       "1               4.5    Dark Green   Excellent   591  \n",
       "2               4.4         Green   Very Good   270  \n",
       "3               4.9    Dark Green   Excellent   365  \n",
       "4               4.8    Dark Green   Excellent   229  \n",
       "\n",
       "[5 rows x 21 columns]"
      ]
     },
     "execution_count": 8,
     "metadata": {},
     "output_type": "execute_result"
    }
   ],
   "source": [
    "df_cleaned_cuisines.head()"
   ]
  },
  {
   "cell_type": "code",
   "execution_count": 9,
   "id": "c7425a43-ecd9-4a5e-ab44-fa0c2279815d",
   "metadata": {},
   "outputs": [],
   "source": [
    "cuisine_counts = Counter(ind_cuisines)"
   ]
  },
  {
   "cell_type": "code",
   "execution_count": 29,
   "id": "f1c4be2a-129b-4561-b550-d5c6e2ddd359",
   "metadata": {},
   "outputs": [],
   "source": [
    "# Level1 Task1"
   ]
  },
  {
   "cell_type": "code",
   "execution_count": 10,
   "id": "d34f1c0c-4f2e-481d-bad9-2dec4ad6d582",
   "metadata": {},
   "outputs": [],
   "source": [
    "top_3_cuisines = cuisine_counts.most_common(3) "
   ]
  },
  {
   "cell_type": "code",
   "execution_count": 11,
   "id": "a7b148be-a85e-42ee-b4ac-a67dc59ca335",
   "metadata": {},
   "outputs": [
    {
     "name": "stdout",
     "output_type": "stream",
     "text": [
      "Top 3 most common cuisines in the dataset:\n",
      "- North Indian: 3960 restaurants\n",
      "- Chinese: 2735 restaurants\n",
      "- Fast Food: 1986 restaurants\n"
     ]
    }
   ],
   "source": [
    "print(\"Top 3 most common cuisines in the dataset:\")\n",
    "for cuisine, count in top_3_cuisines:\n",
    "    print(f\"- {cuisine}: {count} restaurants\")"
   ]
  },
  {
   "cell_type": "code",
   "execution_count": 12,
   "id": "134e0742-2a44-4706-bc18-99cafcf1c39a",
   "metadata": {},
   "outputs": [
    {
     "name": "stdout",
     "output_type": "stream",
     "text": [
      "\n",
      "Percentage of restaurants serving each of the top cuisines:\n",
      "- North Indian: 41.50%\n",
      "- Chinese: 28.66%\n",
      "- Fast Food: 20.81%\n"
     ]
    }
   ],
   "source": [
    "total_restaurants_with_cuisines = len(df_cleaned_cuisines)\n",
    "print(\"\\nPercentage of restaurants serving each of the top cuisines:\")\n",
    "for cuisine, count in top_3_cuisines:\n",
    "    percentage = (count / total_restaurants_with_cuisines) * 100\n",
    "    print(f\"- {cuisine}: {percentage:.2f}%\")"
   ]
  },
  {
   "cell_type": "code",
   "execution_count": null,
   "id": "8f73e8bf-9909-4159-8677-6b9acb470315",
   "metadata": {},
   "outputs": [],
   "source": [
    "# Level1 Task2"
   ]
  },
  {
   "cell_type": "code",
   "execution_count": 76,
   "id": "a1516c0d-1d24-4f27-9889-388d9c15623e",
   "metadata": {},
   "outputs": [
    {
     "name": "stdout",
     "output_type": "stream",
     "text": [
      " City with the highest number of restaurants: New Delhi (5473 restaurants)\n"
     ]
    }
   ],
   "source": [
    "\n",
    "city_restaurant_counts = df['City'].value_counts()\n",
    "city_with_most_restaurants = city_restaurant_counts.idxmax()\n",
    "num_restaurants_in_city = city_restaurant_counts.max()\n",
    "print(f\" City with the highest number of restaurants: {city_with_most_restaurants} ({num_restaurants_in_city} restaurants)\")"
   ]
  },
  {
   "cell_type": "code",
   "execution_count": 77,
   "id": "59305b03-913a-473c-a6a4-0f61336dd8dd",
   "metadata": {},
   "outputs": [
    {
     "name": "stdout",
     "output_type": "stream",
     "text": [
      "\n",
      " Average rating for restaurants in each city :\n",
      "| City                   | Aggregate rating   |\n",
      "|:-----------------------|:-------------------|\n",
      "| Inner City             | 4.9                |\n",
      "| Quezon City            | 4.8                |\n",
      "| Makati City            | 4.65               |\n",
      "| Pasig City             | 4.63333            |\n",
      "| Mandaluyong City       | 4.625              |\n",
      "| Beechworth             | 4.6                |\n",
      "| London                 | 4.535              |\n",
      "| Taguig City            | 4.525              |\n",
      "| Tagaytay City          | 4.5                |\n",
      "| Secunderabad           | 4.5                |\n",
      "| Lincoln                | 4.5                |\n",
      "| Orlando                | 4.475              |\n",
      "| Tampa Bay              | 4.41               |\n",
      "| Rest of Hawaii         | 4.41               |\n",
      "| Tanunda                | 4.4                |\n",
      "| Palm Cove              | 4.4                |\n",
      "| Bangalore              | 4.375              |\n",
      "| Dubai                  | 4.37               |\n",
      "| Pasay City             | 4.36667            |\n",
      "| Jakarta                | 4.35625            |\n",
      "| Hyderabad              | 4.34444            |\n",
      "| Chennai                | 4.315              |\n",
      "| Ankara                 | 4.305              |\n",
      "| Tangerang              | 4.3                |\n",
      "| Mohali                 | 4.3                |\n",
      "| Randburg               | 4.3                |\n",
      "| Sandton                | 4.3                |\n",
      "| Clatskanie             | 4.3                |\n",
      "| Vernonia               | 4.3                |\n",
      "| Vineland Station       | 4.3                |\n",
      "| Abu Dhabi              | 4.3                |\n",
      "| ��stanbul              | 4.29286            |\n",
      "| Auckland               | 4.275              |\n",
      "| Rio de Janeiro         | 4.265              |\n",
      "| Boise                  | 4.26               |\n",
      "| Kolkata                | 4.255              |\n",
      "| San Juan City          | 4.25               |\n",
      "| Wellington City        | 4.25               |\n",
      "| Goa                    | 4.245              |\n",
      "| Des Moines             | 4.235              |\n",
      "| Pune                   | 4.22               |\n",
      "| Bandung                | 4.2                |\n",
      "| Johannesburg           | 4.2                |\n",
      "| Panchkula              | 4.2                |\n",
      "| Pensacola              | 4.2                |\n",
      "| Athens                 | 4.2                |\n",
      "| Lucknow                | 4.19524            |\n",
      "| Guwahati               | 4.19048            |\n",
      "| Pretoria               | 4.19               |\n",
      "| Cedar Rapids/Iowa City | 4.165              |\n",
      "| Ahmedabad              | 4.1619             |\n",
      "| Savannah               | 4.155              |\n",
      "| Coimbatore             | 4.135              |\n",
      "| Augusta                | 4.13               |\n",
      "| Jaipur                 | 4.13               |\n",
      "| Macon                  | 4.115              |\n",
      "| Cape Town              | 4.11               |\n",
      "| Dalton                 | 4.11               |\n",
      "| Huskisson              | 4.1                |\n",
      "| East Ballina           | 4.1                |\n",
      "| Trentham East          | 4.1                |\n",
      "| Edinburgh              | 4.09               |\n",
      "| Mumbai                 | 4.085              |\n",
      "| Kochi                  | 4.08               |\n",
      "| Doha                   | 4.06               |\n",
      "| Chandigarh             | 4.05               |\n",
      "| Dehradun               | 4.05               |\n",
      "| Manchester             | 4.045              |\n",
      "| Gainesville            | 4.035              |\n",
      "| Columbus               | 4.03               |\n",
      "| Sharjah                | 4.03               |\n",
      "| Vadodara               | 4.025              |\n",
      "| Vizag                  | 4.005              |\n",
      "| Princeton              | 4                  |\n",
      "| Bhubaneshwar           | 3.98095            |\n",
      "| Ludhiana               | 3.98               |\n",
      "| Indore                 | 3.97               |\n",
      "| Nagpur                 | 3.965              |\n",
      "| Agra                   | 3.965              |\n",
      "| Bhopal                 | 3.95               |\n",
      "| Surat                  | 3.935              |\n",
      "| Weirton                | 3.9                |\n",
      "| Colombo                | 3.87               |\n",
      "| Bogor                  | 3.85               |\n",
      "| Kanpur                 | 3.815              |\n",
      "| Lakes Entrance         | 3.8                |\n",
      "| Middleton Beach        | 3.8                |\n",
      "| Santa Rosa             | 3.8                |\n",
      "| Hepburn Springs        | 3.8                |\n",
      "| Sioux City             | 3.765              |\n",
      "| Mangalore              | 3.745              |\n",
      "| Puducherry             | 3.73               |\n",
      "| Valdosta               | 3.715              |\n",
      "| Davenport              | 3.715              |\n",
      "| Chatham-Kent           | 3.7                |\n",
      "| Phillip Island         | 3.7                |\n",
      "| Forrest                | 3.7                |\n",
      "| Fernley                | 3.7                |\n",
      "| Inverloch              | 3.7                |\n",
      "| Mysore                 | 3.695              |\n",
      "| Amritsar               | 3.68571            |\n",
      "| Birmingham             | 3.68               |\n",
      "| Waterloo               | 3.65               |\n",
      "| Dicky Beach            | 3.6                |\n",
      "| Ojo Caliente           | 3.6                |\n",
      "| Lakeview               | 3.6                |\n",
      "| Lorn                   | 3.6                |\n",
      "| Monroe                 | 3.6                |\n",
      "| Victor Harbor          | 3.6                |\n",
      "| Singapore              | 3.575              |\n",
      "| Albany                 | 3.555              |\n",
      "| Dubuque                | 3.535              |\n",
      "| S��o Paulo             | 3.53               |\n",
      "| Nashik                 | 3.52               |\n",
      "| Varanasi               | 3.51               |\n",
      "| Macedon                | 3.5                |\n",
      "| Flaxton                | 3.5                |\n",
      "| Armidale               | 3.5                |\n",
      "| Bras�_lia              | 3.495              |\n",
      "| Pocatello              | 3.485              |\n",
      "| Ranchi                 | 3.455              |\n",
      "| Patna                  | 3.455              |\n",
      "| Penola                 | 3.4                |\n",
      "| Miller                 | 3.4                |\n",
      "| Allahabad              | 3.395              |\n",
      "| Aurangabad             | 3.375              |\n",
      "| Potrero                | 3.3                |\n",
      "| Yorkton                | 3.3                |\n",
      "| Balingup               | 3.2                |\n",
      "| Winchester Bay         | 3.2                |\n",
      "| Cochrane               | 3.1                |\n",
      "| Consort                | 3                  |\n",
      "| Mayfield               | 2.9                |\n",
      "| Ghaziabad              | 2.852              |\n",
      "| Gurgaon                | 2.65143            |\n",
      "| Paynesville            | 2.6                |\n",
      "| New Delhi              | 2.43885            |\n",
      "| Montville              | 2.4                |\n",
      "| Mc Millan              | 2.4                |\n",
      "| Noida                  | 2.0362             |\n",
      "| Faridabad              | 1.86693            |\n"
     ]
    }
   ],
   "source": [
    "average_rating_by_city = df.groupby('City')['Aggregate rating'].mean().sort_values(ascending=False)\n",
    "print(\"\\n Average rating for restaurants in each city :\")\n",
    "print(average_rating_by_city.to_markdown(numalign=\"left\", stralign=\"left\"))"
   ]
  },
  {
   "cell_type": "code",
   "execution_count": 79,
   "id": "2ae141fd-f766-428c-b4fb-a1cf55b2e509",
   "metadata": {},
   "outputs": [
    {
     "name": "stdout",
     "output_type": "stream",
     "text": [
      "\n",
      " City with the highest average rating: Inner City (Average Rating: 4.9)\n"
     ]
    }
   ],
   "source": [
    "city_with_highest_avg_rating = average_rating_by_city.idxmax()\n",
    "highest_avg_rating = average_rating_by_city.max()\n",
    "print(f\"\\n City with the highest average rating: {city_with_highest_avg_rating} (Average Rating: {highest_avg_rating:})\")"
   ]
  },
  {
   "cell_type": "code",
   "execution_count": 30,
   "id": "98545569-8661-4332-a78c-ef0be2b61b9b",
   "metadata": {},
   "outputs": [],
   "source": [
    "# Level1 Task3 Price Range Distribution"
   ]
  },
  {
   "cell_type": "code",
   "execution_count": 17,
   "id": "1aaf4558-de0b-4b13-a2ad-c82ff787114e",
   "metadata": {},
   "outputs": [
    {
     "data": {
      "image/png": "[encoded data removed]",
      "text/plain": [
       "<Figure size 800x600 with 1 Axes>"
      ]
     },
     "metadata": {},
     "output_type": "display_data"
    }
   ],
   "source": [
    "\n",
    "price_range_counts = df['Price range'].value_counts().sort_index()\n",
    "plt.figure(figsize=(8, 6))\n",
    "sns.barplot(x=price_range_counts.index, y=price_range_counts.values)\n",
    "plt.title('Distribution of Restaurant Price Ranges')\n",
    "plt.xlabel('Price Range (1 = Cheapest, 4 = Most Expensive)')\n",
    "plt.ylabel('Number of Restaurants')\n",
    "plt.savefig('price_range_distribution.png') # Save the plot as a PNG image\n",
    "plt.show()"
   ]
  },
  {
   "cell_type": "code",
   "execution_count": 19,
   "id": "c0ec1439-7d73-4013-8a5d-0933c958f177",
   "metadata": {},
   "outputs": [
    {
     "name": "stdout",
     "output_type": "stream",
     "text": [
      "Price range\n",
      "1    46.529159\n",
      "2    32.593446\n",
      "3    14.741912\n",
      "4     6.135483\n",
      "Name: count, dtype: float64\n"
     ]
    }
   ],
   "source": [
    "price_range_percentages = (price_range_counts / len(df)) * 100\n",
    "print(price_range_percentages)"
   ]
  },
  {
   "cell_type": "code",
   "execution_count": null,
   "id": "7cc8935d-c215-4ca9-b0e6-9bc8767709b7",
   "metadata": {},
   "outputs": [],
   "source": [
    "# Level1 Task4 Online Delivery"
   ]
  },
  {
   "cell_type": "code",
   "execution_count": 80,
   "id": "66eece89-48bf-4282-afdd-134351e30ea9",
   "metadata": {},
   "outputs": [
    {
     "name": "stdout",
     "output_type": "stream",
     "text": [
      "Percentage of restaurants that offer online delivery: 25.66%\n"
     ]
    }
   ],
   "source": [
    "\n",
    "online_delivery_counts = df['Has Online delivery'].value_counts()\n",
    "restaurants_with_online_delivery = online_delivery_counts.get('Yes', 0)\n",
    "percentage_online_delivery = (restaurants_with_online_delivery / len(df)) * 100\n",
    "print(f\"Percentage of restaurants that offer online delivery: {percentage_online_delivery:.2f}%\")"
   ]
  },
  {
   "cell_type": "code",
   "execution_count": 81,
   "id": "bdf0650d-b626-41cd-b554-2f83a740992c",
   "metadata": {},
   "outputs": [
    {
     "name": "stdout",
     "output_type": "stream",
     "text": [
      "\n",
      " Average rating for restaurants with online delivery: 3.25\n",
      " Average rating for restaurants without online delivery: 2.47\n"
     ]
    }
   ],
   "source": [
    "average_rating_by_online_delivery = df.groupby('Has Online delivery')['Aggregate rating'].mean()\n",
    "avg_rating_with_delivery = average_rating_by_online_delivery.get('Yes', 0)\n",
    "avg_rating_without_delivery = average_rating_by_online_delivery.get('No', 0)\n",
    "print(f\"\\n Average rating for restaurants with online delivery: {avg_rating_with_delivery:.2f}\")\n",
    "print(f\" Average rating for restaurants without online delivery: {avg_rating_without_delivery:.2f}\")"
   ]
  },
  {
   "cell_type": "code",
   "execution_count": 26,
   "id": "625aed61-3b03-4426-9780-ac247f55b0b0",
   "metadata": {},
   "outputs": [],
   "source": [
    "# Level2 Task1"
   ]
  },
  {
   "cell_type": "code",
   "execution_count": 27,
   "id": "983ef6cf-2d63-4f16-81aa-efa14c279140",
   "metadata": {},
   "outputs": [
    {
     "name": "stdout",
     "output_type": "stream",
     "text": [
      "1. Distribution of Aggregate Ratings (Count for each rating): | Aggregate rating   | count   |\n",
      "|:-------------------|:--------|\n",
      "| 4.9                | 61      |\n",
      "| 4.8                | 25      |\n",
      "| 4.7                | 42      |\n",
      "| 4.6                | 78      |\n",
      "| 4.5                | 95      |\n",
      "| 4.4                | 144     |\n",
      "| 4.3                | 174     |\n",
      "| 4.2                | 221     |\n",
      "| 4.1                | 274     |\n",
      "| 4                  | 266     |\n",
      "| 3.9                | 335     |\n",
      "| 3.8                | 400     |\n",
      "| 3.7                | 427     |\n",
      "| 3.6                | 458     |\n",
      "| 3.5                | 480     |\n",
      "| 3.4                | 498     |\n",
      "| 3.3                | 483     |\n",
      "| 3.2                | 522     |\n",
      "| 3.1                | 519     |\n",
      "| 3                  | 468     |\n",
      "| 2.9                | 381     |\n",
      "| 2.8                | 315     |\n",
      "| 2.7                | 250     |\n",
      "| 2.6                | 191     |\n",
      "| 2.5                | 110     |\n",
      "| 2.4                | 87      |\n",
      "| 2.3                | 47      |\n",
      "| 2.2                | 27      |\n",
      "| 2.1                | 15      |\n",
      "| 2                  | 7       |\n",
      "| 1.9                | 2       |\n",
      "| 1.8                | 1       |\n",
      "| 0                  | 2148    |\n",
      "\n",
      "   The most common aggregate rating is: 0.0 (found in 2148 restaurants)\n"
     ]
    }
   ],
   "source": [
    "rating_distribution = df['Aggregate rating'].value_counts().sort_index(ascending=False)\n",
    "print(\"Distribution of Aggregate Ratings (Count for each rating):\",rating_distribution.to_markdown(numalign=\"left\", stralign=\"left\"))\n",
    "most_common_rating = rating_distribution.idxmax()\n",
    "count_most_common_rating = rating_distribution.max()\n",
    "print(f\"\\n   The most common aggregate rating is: {most_common_rating} (found in {count_most_common_rating} restaurants)\")"
   ]
  },
  {
   "cell_type": "code",
   "execution_count": 82,
   "id": "b01bba40-7b4f-45f1-af58-5348958ec44c",
   "metadata": {},
   "outputs": [
    {
     "name": "stdout",
     "output_type": "stream",
     "text": [
      "\n",
      " Average number of votes received by restaurants: 156.91\n"
     ]
    }
   ],
   "source": [
    "average_votes = df['Votes'].mean()\n",
    "print(f\"\\n Average number of votes received by restaurants: {average_votes:.2f}\")"
   ]
  },
  {
   "cell_type": "code",
   "execution_count": 25,
   "id": "6aaf604a-c9a6-4eb7-a0ce-a36b0164b2c8",
   "metadata": {},
   "outputs": [],
   "source": [
    "#  Level2 Task2 Cuisine Combination"
   ]
  },
  {
   "cell_type": "code",
   "execution_count": 34,
   "id": "eeafbadd-e83d-48e9-994c-8e284ec33b23",
   "metadata": {},
   "outputs": [
    {
     "name": "stdout",
     "output_type": "stream",
     "text": [
      "1. Most Common Cuisine Combinations:\n",
      "| Cuisines              | count   |\n",
      "|:----------------------|:--------|\n",
      "| North Indian          | 936     |\n",
      "| North Indian, Chinese | 511     |\n",
      "| Chinese               | 354     |\n",
      "| Fast Food             | 354     |\n",
      "| North Indian, Mughlai | 334     |\n"
     ]
    }
   ],
   "source": [
    "print(\"1. Most Common Cuisine Combinations:\")\n",
    "df_cuisine_analysis = df.dropna(subset=['Cuisines', 'Aggregate rating'])\n",
    "cuisine_combination_counts = df_cuisine_analysis['Cuisines'].value_counts()\n",
    "print(cuisine_combination_counts.head(5).to_markdown(numalign=\"left\", stralign=\"left\"))"
   ]
  },
  {
   "cell_type": "code",
   "execution_count": 36,
   "id": "b92cfee0-89fc-4421-8cdd-321cdb90b984",
   "metadata": {},
   "outputs": [
    {
     "name": "stdout",
     "output_type": "stream",
     "text": [
      "| Cuisines                              | Aggregate rating   |\n",
      "|:--------------------------------------|:-------------------|\n",
      "| North Indian, European, Mediterranean | 4.46               |\n",
      "| Burger                                | 4.45               |\n",
      "| Modern Indian                         | 4.34545            |\n",
      "| Indian                                | 4.25               |\n",
      "| International                         | 4.23333            |\n",
      "| Italian, Pizza, Sandwich              | 4.22               |\n",
      "| Steak                                 | 4.18571            |\n",
      "| French                                | 4.18571            |\n",
      "| Cafe, Bakery, Desserts                | 4.16667            |\n",
      "| Cafe, Italian, Continental            | 4.15               |\n"
     ]
    }
   ],
   "source": [
    "average_rating_by_combination = df_cuisine_analysis.groupby('Cuisines')['Aggregate rating'].mean()\n",
    "# avg rating is considered in the analysis if a cuisine combination appears for atleast five times in the dataset \n",
    "combination_index = cuisine_combination_counts[cuisine_combination_counts >=5].index\n",
    "average_rating_by_combination_filtered = average_rating_by_combination[average_rating_by_combination.index.isin(combination_index)]\n",
    "top_rated_combinations = average_rating_by_combination_filtered.sort_values(ascending=False)\n",
    "print(top_rated_combinations.head(10).to_markdown(numalign=\"left\", stralign=\"left\"))"
   ]
  },
  {
   "cell_type": "code",
   "execution_count": 37,
   "id": "4b5684c6-e1f7-4f92-908d-8d4d8f02789d",
   "metadata": {},
   "outputs": [],
   "source": [
    "# Level2 Task3"
   ]
  },
  {
   "cell_type": "code",
   "execution_count": 38,
   "id": "9030274d-2c5a-4611-a8bd-3798a38ee9b5",
   "metadata": {},
   "outputs": [
    {
     "data": {
      "image/png": "[encoded data removed]",
      "text/plain": [
       "<Figure size 1200x1000 with 1 Axes>"
      ]
     },
     "metadata": {},
     "output_type": "display_data"
    }
   ],
   "source": [
    "df_locations = df.dropna(subset=['Latitude', 'Longitude'])\n",
    "plt.figure(figsize=(12, 10))\n",
    "sns.scatterplot(x='Longitude', y='Latitude', data=df_locations, alpha=0.6, s=10)\n",
    "plt.title('Geographical Distribution of Restaurants')\n",
    "plt.xlabel('Longitude')\n",
    "plt.ylabel('Latitude')\n",
    "plt.savefig('restaurant_locations_scatter.png')"
   ]
  },
  {
   "cell_type": "code",
   "execution_count": 40,
   "id": "a000ca48-9c2d-4584-81b5-a7d91d1e6a0a",
   "metadata": {},
   "outputs": [
    {
     "name": "stdout",
     "output_type": "stream",
     "text": [
      "Restaurants appear to be heavily concentrated in certain geographical areas, forming dense clusters: like between the latitude [25 to 55] and longitude [-125 to -50], and another cluster between latitude [5 to 35] and longitude [50 to 100]\n"
     ]
    }
   ],
   "source": [
    "print(\"Restaurants appear to be heavily concentrated in certain geographical areas, forming dense clusters: like between the latitude [25 to 55] and longitude [-125 to -50], and another cluster between latitude [5 to 35] and longitude [50 to 100]\" )"
   ]
  },
  {
   "cell_type": "code",
   "execution_count": 41,
   "id": "763c36ba-3604-4f3a-9c56-2998006d1860",
   "metadata": {},
   "outputs": [],
   "source": [
    "# Level2 Task4 "
   ]
  },
  {
   "cell_type": "code",
   "execution_count": 42,
   "id": "d0758ef5-74b4-45a8-afba-5c3d003d88cc",
   "metadata": {},
   "outputs": [
    {
     "name": "stdout",
     "output_type": "stream",
     "text": [
      "\n",
      "1. Identified Restaurant Chains (Names appearing more than once):\n",
      "| Restaurant Name   | count   |\n",
      "|:------------------|:--------|\n",
      "| Cafe Coffee Day   | 83      |\n",
      "| Domino's Pizza    | 79      |\n",
      "| Subway            | 63      |\n",
      "| Green Chick Chop  | 51      |\n",
      "| McDonald's        | 48      |\n",
      "| Keventers         | 34      |\n",
      "| Pizza Hut         | 30      |\n",
      "| Giani             | 29      |\n",
      "| Baskin Robbins    | 28      |\n",
      "| Barbeque Nation   | 26      |\n"
     ]
    }
   ],
   "source": [
    "restaurant_name_counts = df['Restaurant Name'].value_counts()\n",
    "chains = restaurant_name_counts[restaurant_name_counts > 1]\n",
    "if not chains.empty:\n",
    "    print(\"\\n1. Identified Restaurant Chains (Names appearing more than once):\")\n",
    "    print(chains.head(10).to_markdown(numalign=\"left\", stralign=\"left\"))\n",
    "else:\n",
    "    print(\"\\n1. No significant restaurant chains (names appearing more than once) identified in the dataset.\")"
   ]
  },
  {
   "cell_type": "code",
   "execution_count": 84,
   "id": "d2dd628b-5cb1-4ee8-aade-a2724774fd8c",
   "metadata": {},
   "outputs": [
    {
     "name": "stdout",
     "output_type": "stream",
     "text": [
      "\n",
      " Ratings and Popularity of Restaurant Chains:\n",
      "| Restaurant Name   | Number_of_Outlets   | Average_Rating   | Total_Votes   |\n",
      "|:------------------|:--------------------|:-----------------|:--------------|\n",
      "| Cafe Coffee Day   | 83                  | 2.41928          | 2428          |\n",
      "| Domino's Pizza    | 79                  | 2.74051          | 6643          |\n",
      "| Subway            | 63                  | 2.90794          | 6124          |\n",
      "| Green Chick Chop  | 51                  | 2.67255          | 964           |\n",
      "| McDonald's        | 48                  | 3.33958          | 5291          |\n",
      "| Keventers         | 34                  | 2.87059          | 1263          |\n",
      "| Pizza Hut         | 30                  | 3.32             | 4961          |\n",
      "| Giani             | 29                  | 2.68966          | 854           |\n",
      "| Baskin Robbins    | 28                  | 1.86071          | 428           |\n",
      "| Barbeque Nation   | 26                  | 4.35385          | 28142         |\n",
      "| Barista           | 22                  | 3.07273          | 815           |\n",
      "| Dunkin' Donuts    | 22                  | 3.13636          | 5974          |\n",
      "| Giani's           | 22                  | 2.78182          | 1150          |\n",
      "| Pind Balluchi     | 20                  | 2.63             | 5582          |\n",
      "| Costa Coffee      | 20                  | 2.415            | 861           |\n"
     ]
    }
   ],
   "source": [
    "restaurant_name_counts = df['Restaurant Name'].value_counts()\n",
    "chains = restaurant_name_counts[restaurant_name_counts > 1]\n",
    "if not chains.empty:\n",
    "    df_chains = df[df['Restaurant Name'].isin(chains.index)].copy()\n",
    "    chain_analysis = df_chains.groupby('Restaurant Name').agg(\n",
    "        Number_of_Outlets=('Restaurant ID', 'count'), # Count number of outlets for each chain\n",
    "        Average_Rating=('Aggregate rating', 'mean'),  # Calculate average rating\n",
    "        Total_Votes=('Votes', 'sum')                  # Sum votes for popularity\n",
    "    ).sort_values(by='Number_of_Outlets', ascending=False) \n",
    "    print(\"\\n Ratings and Popularity of Restaurant Chains:\")\n",
    "    print(chain_analysis.head(15).to_markdown(numalign=\"left\", stralign=\"left\"))\n",
    "else:\n",
    "    print(\"\\n No chains found to analyze ratings and popularity as none were identified.\")"
   ]
  },
  {
   "cell_type": "code",
   "execution_count": 49,
   "id": "14cbe7bf-de19-4a6a-9d7e-3e2e9074e903",
   "metadata": {},
   "outputs": [],
   "source": [
    "# Level3 Task2 Votes Analysis"
   ]
  },
  {
   "cell_type": "code",
   "execution_count": 50,
   "id": "3a29a30e-1761-4caa-ad2d-a18b030227a3",
   "metadata": {},
   "outputs": [
    {
     "name": "stdout",
     "output_type": "stream",
     "text": [
      "\n",
      " Restaurants with the Highest Number of Votes:\n",
      "|      | Restaurant Name           | Votes   | Aggregate rating   | City      |\n",
      "|:-----|:--------------------------|:--------|:-------------------|:----------|\n",
      "| 728  | Toit                      | 10934   | 4.8                | Bangalore |\n",
      "| 735  | Truffles                  | 9667    | 4.7                | Bangalore |\n",
      "| 3994 | Hauz Khas Social          | 7931    | 4.3                | New Delhi |\n",
      "| 2412 | Peter Cat                 | 7574    | 4.3                | Kolkata   |\n",
      "| 739  | AB's - Absolute Barbecues | 6907    | 4.6                | Bangalore |\n"
     ]
    }
   ],
   "source": [
    "restaurants_highest_votes = df.sort_values(by='Votes', ascending=False)\n",
    "print(\"\\n Restaurants with the Highest Number of Votes:\")\n",
    "print(restaurants_highest_votes[['Restaurant Name', 'Votes', 'Aggregate rating', 'City']].head(5).to_markdown(numalign=\"left\", stralign=\"left\"))"
   ]
  },
  {
   "cell_type": "code",
   "execution_count": 51,
   "id": "96d0a58c-bf55-4caa-8261-ed97bf0f1197",
   "metadata": {},
   "outputs": [
    {
     "name": "stdout",
     "output_type": "stream",
     "text": [
      "\n",
      " Restaurants with the Lowest Number of Votes:\n",
      "|      | Restaurant Name            | Votes   | Aggregate rating   | City      |\n",
      "|:-----|:---------------------------|:--------|:-------------------|:----------|\n",
      "| 5799 | Khalsa Eating Point        | 0       | 0                  | New Delhi |\n",
      "| 7411 | Radha Swami Chaat Bhandar  | 0       | 0                  | New Delhi |\n",
      "| 7414 | Ram Ram Ji Kachori Bhandar | 0       | 0                  | New Delhi |\n",
      "| 7415 | Rana's Food Corner         | 0       | 0                  | New Delhi |\n",
      "| 7416 | Sanjay Chicken Shop        | 0       | 0                  | New Delhi |\n"
     ]
    }
   ],
   "source": [
    "restaurants_lowest_votes = df.sort_values(by='Votes', ascending=True)\n",
    "print(\"\\n Restaurants with the Lowest Number of Votes:\")\n",
    "print(restaurants_lowest_votes[['Restaurant Name', 'Votes', 'Aggregate rating', 'City']].head(5).to_markdown(numalign=\"left\", stralign=\"left\"))"
   ]
  },
  {
   "cell_type": "code",
   "execution_count": 53,
   "id": "77be73b2-119f-4102-98fe-4e77b1369ae7",
   "metadata": {},
   "outputs": [
    {
     "name": "stdout",
     "output_type": "stream",
     "text": [
      "   Correlation Coefficient between 'Votes' and 'Aggregate rating': 0.3137\n"
     ]
    }
   ],
   "source": [
    "df_correlation_analysis = df.dropna(subset=['Votes', 'Aggregate rating'])\n",
    "correlation_votes_rating = df_correlation_analysis['Votes'].corr(df_correlation_analysis['Aggregate rating'])\n",
    "print(f\"   Correlation Coefficient between 'Votes' and 'Aggregate rating': {correlation_votes_rating:.4f}\")"
   ]
  },
  {
   "cell_type": "code",
   "execution_count": 54,
   "id": "178d8d79-3df3-44e9-ade2-586938d68af0",
   "metadata": {},
   "outputs": [],
   "source": [
    "# Level3 Task2 Price Range vs. Online Delivery andTable Booking"
   ]
  },
  {
   "cell_type": "code",
   "execution_count": 55,
   "id": "adbf29f2-c24b-4df9-bb1c-7374267f4e5f",
   "metadata": {},
   "outputs": [
    {
     "name": "stdout",
     "output_type": "stream",
     "text": [
      "| Price range   | count   |\n",
      "|:--------------|:--------|\n",
      "| 1             | 4444    |\n",
      "| 2             | 3113    |\n",
      "| 3             | 1408    |\n",
      "| 4             | 586     |\n"
     ]
    }
   ],
   "source": [
    "print(df['Price range'].value_counts().to_markdown(numalign=\"left\", stralign=\"left\"))"
   ]
  },
  {
   "cell_type": "code",
   "execution_count": 56,
   "id": "62025a9d-1592-4a28-ad86-9de9c3b12153",
   "metadata": {},
   "outputs": [
    {
     "data": {
      "text/plain": [
       "count    9551.000000\n",
       "mean        1.804837\n",
       "std         0.905609\n",
       "min         1.000000\n",
       "25%         1.000000\n",
       "50%         2.000000\n",
       "75%         2.000000\n",
       "max         4.000000\n",
       "Name: Price range, dtype: float64"
      ]
     },
     "execution_count": 56,
     "metadata": {},
     "output_type": "execute_result"
    }
   ],
   "source": [
    "df['Price range'].describe()"
   ]
  },
  {
   "cell_type": "code",
   "execution_count": 57,
   "id": "63a2e38c-83c3-4e6f-a165-2431c682a0ba",
   "metadata": {},
   "outputs": [
    {
     "name": "stdout",
     "output_type": "stream",
     "text": [
      "| Has Online delivery   | count   |\n",
      "|:----------------------|:--------|\n",
      "| No                    | 7100    |\n",
      "| Yes                   | 2451    |\n"
     ]
    }
   ],
   "source": [
    "print (df['Has Online delivery'].value_counts().to_markdown(numalign=\"left\", stralign=\"left\"))"
   ]
  },
  {
   "cell_type": "code",
   "execution_count": 58,
   "id": "08776c2e-74d2-4bd2-99a0-329bfd39628b",
   "metadata": {},
   "outputs": [
    {
     "name": "stdout",
     "output_type": "stream",
     "text": [
      "| Has Table booking   | count   |\n",
      "|:--------------------|:--------|\n",
      "| No                  | 8393    |\n",
      "| Yes                 | 1158    |\n"
     ]
    }
   ],
   "source": [
    "print(df['Has Table booking'].value_counts().to_markdown(numalign=\"left\", stralign=\"left\"))"
   ]
  },
  {
   "cell_type": "code",
   "execution_count": 66,
   "id": "71c2efe0-4b56-4993-98be-76f525c9cc47",
   "metadata": {},
   "outputs": [],
   "source": [
    "df['Has Online delivery_numeric'] = df['Has Online delivery'].apply(lambda x: 1 if x == 'Yes' else 0)\n",
    "df['Has Table booking_numeric'] = df['Has Table booking'].apply(lambda x: 1 if x == 'Yes' else 0)"
   ]
  },
  {
   "cell_type": "code",
   "execution_count": 62,
   "id": "3972e511-cc31-4bf4-a6a6-281abf8afda1",
   "metadata": {},
   "outputs": [
    {
     "name": "stdout",
     "output_type": "stream",
     "text": [
      "\n",
      "Correlation Matrix:\n",
      " |                             | Price range   | Has Online delivery_numeric   | Has Table booking_numeric   |\n",
      "|:----------------------------|:--------------|:------------------------------|:----------------------------|\n",
      "| Price range                 | 1             | 0.0779178                     | 0.501925                    |\n",
      "| Has Online delivery_numeric | 0.0779178     | 1                             | 0.101224                    |\n",
      "| Has Table booking_numeric   | 0.501925      | 0.101224                      | 1                           |\n"
     ]
    }
   ],
   "source": [
    "correlation_data = df[['Price range', 'Has Online delivery_numeric', 'Has Table booking_numeric']]\n",
    "correlation_matrix = correlation_data.corr()\n",
    "print(\"\\nCorrelation Matrix:\\n\", correlation_matrix.to_markdown(numalign=\"left\", stralign=\"left\"))"
   ]
  },
  {
   "cell_type": "code",
   "execution_count": 63,
   "id": "d2d17d2f-0f51-4388-a23a-2f9c351d1f1e",
   "metadata": {},
   "outputs": [],
   "source": [
    "import statsmodels.api as sm"
   ]
  },
  {
   "cell_type": "code",
   "execution_count": 68,
   "id": "84993623-b189-4233-b544-5824cfe3d551",
   "metadata": {},
   "outputs": [
    {
     "name": "stdout",
     "output_type": "stream",
     "text": [
      "| Has Online delivery_numeric   | count   |\n",
      "|:------------------------------|:--------|\n",
      "| 0                             | 7100    |\n",
      "| 1                             | 2451    |\n"
     ]
    }
   ],
   "source": [
    "print (df['Has Online delivery_numeric'].value_counts().to_markdown(numalign=\"left\", stralign=\"left\"))"
   ]
  },
  {
   "cell_type": "code",
   "execution_count": 69,
   "id": "78d5f90f-88b5-444e-a30f-2324ce22891a",
   "metadata": {},
   "outputs": [
    {
     "name": "stdout",
     "output_type": "stream",
     "text": [
      "                                Logit Regression Results                               \n",
      "=======================================================================================\n",
      "Dep. Variable:     Has Online delivery_numeric   No. Observations:                 9551\n",
      "Model:                                   Logit   Df Residuals:                     9549\n",
      "Method:                                    MLE   Df Model:                            1\n",
      "Date:                         Tue, 22 Jul 2025   Pseudo R-squ.:                0.005215\n",
      "Time:                                 22:10:01   Log-Likelihood:                -5410.9\n",
      "converged:                                True   LL-Null:                       -5439.2\n",
      "Covariance Type:                     nonrobust   LLR p-value:                 4.983e-14\n",
      "===============================================================================\n",
      "                  coef    std err          z      P>|z|      [0.025      0.975]\n",
      "-------------------------------------------------------------------------------\n",
      "const          -1.4155      0.053    -26.803      0.000      -1.519      -1.312\n",
      "Price range     0.1910      0.025      7.587      0.000       0.142       0.240\n",
      "===============================================================================\n"
     ]
    }
   ],
   "source": [
    "# model specification and logit regression:   Price Range vs. Online Delivery \n",
    "X = sm.add_constant(df[['Price range']])\n",
    "y= df['Has Online delivery_numeric']\n",
    "model_OD= sm.Logit(y, X)\n",
    "result_OD = model_OD.fit(disp=0)\n",
    "print(result_OD.summary().as_text())"
   ]
  },
  {
   "cell_type": "code",
   "execution_count": 71,
   "id": "74ae6d9d-6eb4-4c24-b2cb-3e8846bc1b60",
   "metadata": {},
   "outputs": [
    {
     "name": "stdout",
     "output_type": "stream",
     "text": [
      "            Logit Marginal Effects            \n",
      "==============================================\n",
      "Dep. Variable:     Has Online delivery_numeric\n",
      "Method:                                   dydx\n",
      "At:                                    overall\n",
      "===============================================================================\n",
      "                 dy/dx    std err          z      P>|z|      [0.025      0.975]\n",
      "-------------------------------------------------------------------------------\n",
      "Price range     0.0362      0.005      7.655      0.000       0.027       0.045\n",
      "===============================================================================\n"
     ]
    }
   ],
   "source": [
    "# Marginal Effect\n",
    "margeff_OD= result_OD.get_margeff(at='overall')\n",
    "print(margeff_OD.summary().as_text())"
   ]
  },
  {
   "cell_type": "code",
   "execution_count": 73,
   "id": "8a492053-ef8e-4d73-ae29-82046fb208a9",
   "metadata": {},
   "outputs": [
    {
     "name": "stdout",
     "output_type": "stream",
     "text": [
      "                               Logit Regression Results                              \n",
      "=====================================================================================\n",
      "Dep. Variable:     Has Table booking_numeric   No. Observations:                 9551\n",
      "Model:                                 Logit   Df Residuals:                     9549\n",
      "Method:                                  MLE   Df Model:                            1\n",
      "Date:                       Tue, 22 Jul 2025   Pseudo R-squ.:                  0.3108\n",
      "Time:                               22:20:02   Log-Likelihood:                -2431.6\n",
      "converged:                              True   LL-Null:                       -3528.1\n",
      "Covariance Type:                   nonrobust   LLR p-value:                     0.000\n",
      "===============================================================================\n",
      "                  coef    std err          z      P>|z|      [0.025      0.975]\n",
      "-------------------------------------------------------------------------------\n",
      "const          -5.8194      0.121    -48.119      0.000      -6.056      -5.582\n",
      "Price range     1.6715      0.043     38.784      0.000       1.587       1.756\n",
      "===============================================================================\n"
     ]
    }
   ],
   "source": [
    "# model specification and logit regression:  Price Range vs. Table Booking\n",
    "X = sm.add_constant(df[['Price range']])\n",
    "y= df['Has Table booking_numeric']\n",
    "model_TB= sm.Logit(y, X)\n",
    "result_TB = model_OD.fit(disp=0)\n",
    "print(result_TB.summary().as_text())"
   ]
  },
  {
   "cell_type": "code",
   "execution_count": 74,
   "id": "a09206e0-fbbe-4992-b863-1bc5c97bfab4",
   "metadata": {},
   "outputs": [
    {
     "name": "stdout",
     "output_type": "stream",
     "text": [
      "           Logit Marginal Effects           \n",
      "============================================\n",
      "Dep. Variable:     Has Table booking_numeric\n",
      "Method:                                 dydx\n",
      "At:                                  overall\n",
      "===============================================================================\n",
      "                 dy/dx    std err          z      P>|z|      [0.025      0.975]\n",
      "-------------------------------------------------------------------------------\n",
      "Price range     0.1248      0.002     51.490      0.000       0.120       0.130\n",
      "===============================================================================\n"
     ]
    }
   ],
   "source": [
    "# Marginal Effect\n",
    "margeff_TB= result_TB.get_margeff(at='overall')\n",
    "print(margeff_TB.summary().as_text())"
   ]
  },
  {
   "cell_type": "code",
   "execution_count": null,
   "id": "7ff41518-b098-43ee-8ce3-563c806a06db",
   "metadata": {},
   "outputs": [],
   "source": []
  }
 ],
 "metadata": {
  "kernelspec": {
   "display_name": "Python 3 (ipykernel)",
   "language": "python",
   "name": "python3"
  },
  "language_info": {
   "codemirror_mode": {
    "name": "ipython",
    "version": 3
   },
   "file_extension": ".py",
   "mimetype": "text/x-python",
   "name": "python",
   "nbconvert_exporter": "python",
   "pygments_lexer": "ipython3",
   "version": "3.12.7"
  }
 },
 "nbformat": 4,
 "nbformat_minor": 5
}
